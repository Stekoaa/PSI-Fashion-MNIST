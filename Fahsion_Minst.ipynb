{
  "nbformat": 4,
  "nbformat_minor": 0,
  "metadata": {
    "colab": {
      "provenance": []
    },
    "kernelspec": {
      "name": "python3",
      "display_name": "Python 3"
    },
    "language_info": {
      "name": "python"
    }
  },
  "cells": [
    {
      "cell_type": "code",
      "execution_count": 2,
      "metadata": {
        "id": "MTqy_VUCZ2hC"
      },
      "outputs": [],
      "source": [
        "import tensorflow as tf\n",
        "from tensorflow import keras\n",
        "import numpy as np\n",
        "import pandas as pd\n",
        "import matplotlib.pyplot as plt\n",
        "import os"
      ]
    },
    {
      "cell_type": "code",
      "source": [
        "fashion_mnist = keras.datasets.fashion_mnist\n",
        "(X_train_full, y_train_full), (X_test, y_test) = fashion_mnist.load_data()"
      ],
      "metadata": {
        "id": "Bm2qxWYhaIhN"
      },
      "execution_count": 3,
      "outputs": []
    },
    {
      "cell_type": "code",
      "source": [
        "X_train_full.shape"
      ],
      "metadata": {
        "id": "PFPdUvSUaJ0I",
        "colab": {
          "base_uri": "https://localhost:8080/"
        },
        "outputId": "a3fc4d2e-ac28-4307-d56d-890cee30a95a"
      },
      "execution_count": 4,
      "outputs": [
        {
          "output_type": "execute_result",
          "data": {
            "text/plain": [
              "(60000, 28, 28)"
            ]
          },
          "metadata": {},
          "execution_count": 4
        }
      ]
    },
    {
      "cell_type": "code",
      "source": [
        "X_train_full.dtype"
      ],
      "metadata": {
        "id": "5-E3Oab0aLRQ",
        "colab": {
          "base_uri": "https://localhost:8080/"
        },
        "outputId": "a5a51cf5-87c6-47e9-8026-dc2954f5ce9b"
      },
      "execution_count": 4,
      "outputs": [
        {
          "output_type": "execute_result",
          "data": {
            "text/plain": [
              "dtype('uint8')"
            ]
          },
          "metadata": {},
          "execution_count": 4
        }
      ]
    },
    {
      "cell_type": "code",
      "source": [
        "X_valid, X_train = X_train_full[:5000] / 255., X_train_full[5000:] / 255.\n",
        "y_valid, y_train = y_train_full[:5000], y_train_full[5000:]\n",
        "X_test = X_test / 255."
      ],
      "metadata": {
        "id": "Wrd9MPKwaMv8"
      },
      "execution_count": 5,
      "outputs": []
    },
    {
      "cell_type": "code",
      "source": [
        "plt.imshow(X_train[0], cmap=\"binary\")\n",
        "plt.axis('off')\n",
        "plt.show()"
      ],
      "metadata": {
        "id": "5XnG2bhLaP_K",
        "colab": {
          "base_uri": "https://localhost:8080/",
          "height": 406
        },
        "outputId": "c00ee1d4-4356-4d11-efb9-b8b5349743c9"
      },
      "execution_count": 6,
      "outputs": [
        {
          "output_type": "display_data",
          "data": {
            "text/plain": [
              "<Figure size 640x480 with 1 Axes>"
            ],
            "image/png": "[encoded data removed]"
          },
          "metadata": {}
        }
      ]
    },
    {
      "cell_type": "code",
      "source": [
        "class_names = [\"T-shirt/top\", \"Trouser\", \"Pullover\", \"Dress\", \"Coat\",\n",
        "               \"Sandal\", \"Shirt\", \"Sneaker\", \"Bag\", \"Ankle boot\"]\n",
        "\n",
        "class_names[y_train[0]]"
      ],
      "metadata": {
        "id": "-Zw0JcgcaRZc",
        "colab": {
          "base_uri": "https://localhost:8080/",
          "height": 35
        },
        "outputId": "b0b411e2-4961-4324-f153-ce4eda20c901"
      },
      "execution_count": 7,
      "outputs": [
        {
          "output_type": "execute_result",
          "data": {
            "text/plain": [
              "'Coat'"
            ],
            "application/vnd.google.colaboratory.intrinsic+json": {
              "type": "string"
            }
          },
          "metadata": {},
          "execution_count": 7
        }
      ]
    },
    {
      "cell_type": "code",
      "source": [
        "keras.backend.clear_session()\n",
        "np.random.seed(42)\n",
        "tf.random.set_seed(42)\n",
        "\n",
        "model_full = keras.models.Sequential([\n",
        "    keras.layers.Flatten(input_shape=[28, 28]),\n",
        "    keras.layers.Dense(300),\n",
        "    keras.layers.BatchNormalization(),\n",
        "    keras.layers.Activation(\"relu\"),\n",
        "    keras.layers.Dropout(0.5),\n",
        "    keras.layers.Dense(100),\n",
        "    keras.layers.BatchNormalization(),\n",
        "    keras.layers.Activation(\"relu\"),\n",
        "    keras.layers.Dropout(0.5),\n",
        "    keras.layers.Dense(50),\n",
        "    keras.layers.BatchNormalization(),\n",
        "    keras.layers.Activation(\"relu\"),\n",
        "    keras.layers.Dropout(0.5),\n",
        "    keras.layers.Dense(10, activation=\"softmax\")\n",
        "])\n",
        "\n",
        "model_full.summary()\n",
        "\n",
        "early_stopping = keras.callbacks.EarlyStopping(patience=15, monitor=\"val_loss\")\n",
        "model_full.compile(loss=\"sparse_categorical_crossentropy\", optimizer=\"adam\", metrics=[\"accuracy\"])\n",
        "\n",
        "history_full = model_full.fit(X_train, y_train, epochs=100, validation_data=(X_valid, y_valid), callbacks=[early_stopping])"
      ],
      "metadata": {
        "id": "_mVlPfR1aYWl",
        "colab": {
          "base_uri": "https://localhost:8080/"
        },
        "outputId": "c6ee6afc-8972-45c8-9309-cba02216efcc"
      },
      "execution_count": 8,
      "outputs": [
        {
          "output_type": "stream",
          "name": "stdout",
          "text": [
            "Model: \"sequential\"\n",
            "_________________________________________________________________\n",
            " Layer (type)                Output Shape              Param #   \n",
            "=================================================================\n",
            " flatten (Flatten)           (None, 784)               0         \n",
            "                                                                 \n",
            " dense (Dense)               (None, 300)               235500    \n",
            "                                                                 \n",
            " batch_normalization (BatchN  (None, 300)              1200      \n",
            " ormalization)                                                   \n",
            "                                                                 \n",
            " activation (Activation)     (None, 300)               0         \n",
            "                                                                 \n",
            " dropout (Dropout)           (None, 300)               0         \n",
            "                                                                 \n",
            " dense_1 (Dense)             (None, 100)               30100     \n",
            "                                                                 \n",
            " batch_normalization_1 (Batc  (None, 100)              400       \n",
            " hNormalization)                                                 \n",
            "                                                                 \n",
            " activation_1 (Activation)   (None, 100)               0         \n",
            "                                                                 \n",
            " dropout_1 (Dropout)         (None, 100)               0         \n",
            "                                                                 \n",
            " dense_2 (Dense)             (None, 50)                5050      \n",
            "                                                                 \n",
            " batch_normalization_2 (Batc  (None, 50)               200       \n",
            " hNormalization)                                                 \n",
            "                                                                 \n",
            " activation_2 (Activation)   (None, 50)                0         \n",
            "                                                                 \n",
            " dropout_2 (Dropout)         (None, 50)                0         \n",
            "                                                                 \n",
            " dense_3 (Dense)             (None, 10)                510       \n",
            "                                                                 \n",
            "=================================================================\n",
            "Total params: 272,960\n",
            "Trainable params: 272,060\n",
            "Non-trainable params: 900\n",
            "_________________________________________________________________\n",
            "Epoch 1/100\n",
            "1719/1719 [==============================] - 9s 5ms/step - loss: 0.9363 - accuracy: 0.6845 - val_loss: 0.4571 - val_accuracy: 0.8360\n",
            "Epoch 2/100\n",
            "1719/1719 [==============================] - 7s 4ms/step - loss: 0.6547 - accuracy: 0.7827 - val_loss: 0.4149 - val_accuracy: 0.8508\n",
            "Epoch 3/100\n",
            "1719/1719 [==============================] - 8s 5ms/step - loss: 0.5977 - accuracy: 0.8007 - val_loss: 0.4113 - val_accuracy: 0.8528\n",
            "Epoch 4/100\n",
            "1719/1719 [==============================] - 7s 4ms/step - loss: 0.5637 - accuracy: 0.8131 - val_loss: 0.3732 - val_accuracy: 0.8666\n",
            "Epoch 5/100\n",
            "1719/1719 [==============================] - 8s 5ms/step - loss: 0.5306 - accuracy: 0.8232 - val_loss: 0.3485 - val_accuracy: 0.8738\n",
            "Epoch 6/100\n",
            "1719/1719 [==============================] - 8s 5ms/step - loss: 0.5208 - accuracy: 0.8269 - val_loss: 0.3560 - val_accuracy: 0.8742\n",
            "Epoch 7/100\n",
            "1719/1719 [==============================] - 7s 4ms/step - loss: 0.5095 - accuracy: 0.8321 - val_loss: 0.3361 - val_accuracy: 0.8786\n",
            "Epoch 8/100\n",
            "1719/1719 [==============================] - 8s 5ms/step - loss: 0.4956 - accuracy: 0.8351 - val_loss: 0.3550 - val_accuracy: 0.8718\n",
            "Epoch 9/100\n",
            "1719/1719 [==============================] - 8s 4ms/step - loss: 0.4852 - accuracy: 0.8374 - val_loss: 0.3545 - val_accuracy: 0.8688\n",
            "Epoch 10/100\n",
            "1719/1719 [==============================] - 7s 4ms/step - loss: 0.4721 - accuracy: 0.8421 - val_loss: 0.3218 - val_accuracy: 0.8764\n",
            "Epoch 11/100\n",
            "1719/1719 [==============================] - 8s 5ms/step - loss: 0.4668 - accuracy: 0.8446 - val_loss: 0.3206 - val_accuracy: 0.8776\n",
            "Epoch 12/100\n",
            "1719/1719 [==============================] - 8s 4ms/step - loss: 0.4612 - accuracy: 0.8457 - val_loss: 0.3149 - val_accuracy: 0.8804\n",
            "Epoch 13/100\n",
            "1719/1719 [==============================] - 7s 4ms/step - loss: 0.4513 - accuracy: 0.8490 - val_loss: 0.3131 - val_accuracy: 0.8842\n",
            "Epoch 14/100\n",
            "1719/1719 [==============================] - 8s 5ms/step - loss: 0.4452 - accuracy: 0.8510 - val_loss: 0.3191 - val_accuracy: 0.8810\n",
            "Epoch 15/100\n",
            "1719/1719 [==============================] - 7s 4ms/step - loss: 0.4412 - accuracy: 0.8508 - val_loss: 0.3069 - val_accuracy: 0.8852\n",
            "Epoch 16/100\n",
            "1719/1719 [==============================] - 7s 4ms/step - loss: 0.4366 - accuracy: 0.8546 - val_loss: 0.3019 - val_accuracy: 0.8854\n",
            "Epoch 17/100\n",
            "1719/1719 [==============================] - 8s 5ms/step - loss: 0.4330 - accuracy: 0.8577 - val_loss: 0.3071 - val_accuracy: 0.8836\n",
            "Epoch 18/100\n",
            "1719/1719 [==============================] - 7s 4ms/step - loss: 0.4261 - accuracy: 0.8549 - val_loss: 0.3143 - val_accuracy: 0.8804\n",
            "Epoch 19/100\n",
            "1719/1719 [==============================] - 8s 5ms/step - loss: 0.4221 - accuracy: 0.8583 - val_loss: 0.3124 - val_accuracy: 0.8832\n",
            "Epoch 20/100\n",
            "1719/1719 [==============================] - 8s 4ms/step - loss: 0.4143 - accuracy: 0.8601 - val_loss: 0.3064 - val_accuracy: 0.8884\n",
            "Epoch 21/100\n",
            "1719/1719 [==============================] - 7s 4ms/step - loss: 0.4160 - accuracy: 0.8601 - val_loss: 0.3125 - val_accuracy: 0.8846\n",
            "Epoch 22/100\n",
            "1719/1719 [==============================] - 8s 5ms/step - loss: 0.4118 - accuracy: 0.8600 - val_loss: 0.2965 - val_accuracy: 0.8894\n",
            "Epoch 23/100\n",
            "1719/1719 [==============================] - 8s 5ms/step - loss: 0.4102 - accuracy: 0.8624 - val_loss: 0.2899 - val_accuracy: 0.8900\n",
            "Epoch 24/100\n",
            "1719/1719 [==============================] - 7s 4ms/step - loss: 0.4072 - accuracy: 0.8636 - val_loss: 0.2997 - val_accuracy: 0.8910\n",
            "Epoch 25/100\n",
            "1719/1719 [==============================] - 8s 5ms/step - loss: 0.4057 - accuracy: 0.8633 - val_loss: 0.3134 - val_accuracy: 0.8858\n",
            "Epoch 26/100\n",
            "1719/1719 [==============================] - 8s 5ms/step - loss: 0.3985 - accuracy: 0.8653 - val_loss: 0.2942 - val_accuracy: 0.8922\n",
            "Epoch 27/100\n",
            "1719/1719 [==============================] - 7s 4ms/step - loss: 0.3978 - accuracy: 0.8669 - val_loss: 0.3063 - val_accuracy: 0.8866\n",
            "Epoch 28/100\n",
            "1719/1719 [==============================] - 8s 4ms/step - loss: 0.4000 - accuracy: 0.8649 - val_loss: 0.2892 - val_accuracy: 0.8886\n",
            "Epoch 29/100\n",
            "1719/1719 [==============================] - 7s 4ms/step - loss: 0.3896 - accuracy: 0.8687 - val_loss: 0.2981 - val_accuracy: 0.8906\n",
            "Epoch 30/100\n",
            "1719/1719 [==============================] - 8s 4ms/step - loss: 0.3877 - accuracy: 0.8691 - val_loss: 0.2875 - val_accuracy: 0.8934\n",
            "Epoch 31/100\n",
            "1719/1719 [==============================] - 8s 5ms/step - loss: 0.3890 - accuracy: 0.8693 - val_loss: 0.2942 - val_accuracy: 0.8854\n",
            "Epoch 32/100\n",
            "1719/1719 [==============================] - 7s 4ms/step - loss: 0.3803 - accuracy: 0.8722 - val_loss: 0.2897 - val_accuracy: 0.8906\n",
            "Epoch 33/100\n",
            "1719/1719 [==============================] - 8s 5ms/step - loss: 0.3892 - accuracy: 0.8686 - val_loss: 0.2971 - val_accuracy: 0.8914\n",
            "Epoch 34/100\n",
            "1719/1719 [==============================] - 8s 5ms/step - loss: 0.3787 - accuracy: 0.8715 - val_loss: 0.2901 - val_accuracy: 0.8930\n",
            "Epoch 35/100\n",
            "1719/1719 [==============================] - 8s 4ms/step - loss: 0.3828 - accuracy: 0.8712 - val_loss: 0.2804 - val_accuracy: 0.8980\n",
            "Epoch 36/100\n",
            "1719/1719 [==============================] - 8s 5ms/step - loss: 0.3780 - accuracy: 0.8740 - val_loss: 0.2812 - val_accuracy: 0.8978\n",
            "Epoch 37/100\n",
            "1719/1719 [==============================] - 8s 5ms/step - loss: 0.3698 - accuracy: 0.8743 - val_loss: 0.2819 - val_accuracy: 0.8954\n",
            "Epoch 38/100\n",
            "1719/1719 [==============================] - 8s 4ms/step - loss: 0.3777 - accuracy: 0.8732 - val_loss: 0.2902 - val_accuracy: 0.8944\n",
            "Epoch 39/100\n",
            "1719/1719 [==============================] - 8s 5ms/step - loss: 0.3708 - accuracy: 0.8760 - val_loss: 0.2813 - val_accuracy: 0.8992\n",
            "Epoch 40/100\n",
            "1719/1719 [==============================] - 8s 5ms/step - loss: 0.3709 - accuracy: 0.8754 - val_loss: 0.2803 - val_accuracy: 0.8980\n",
            "Epoch 41/100\n",
            "1719/1719 [==============================] - 7s 4ms/step - loss: 0.3641 - accuracy: 0.8773 - val_loss: 0.2876 - val_accuracy: 0.8938\n",
            "Epoch 42/100\n",
            "1719/1719 [==============================] - 8s 5ms/step - loss: 0.3686 - accuracy: 0.8759 - val_loss: 0.2900 - val_accuracy: 0.8918\n",
            "Epoch 43/100\n",
            "1719/1719 [==============================] - 8s 5ms/step - loss: 0.3655 - accuracy: 0.8766 - val_loss: 0.2902 - val_accuracy: 0.8936\n",
            "Epoch 44/100\n",
            "1719/1719 [==============================] - 7s 4ms/step - loss: 0.3619 - accuracy: 0.8763 - val_loss: 0.2822 - val_accuracy: 0.8944\n",
            "Epoch 45/100\n",
            "1719/1719 [==============================] - 8s 5ms/step - loss: 0.3654 - accuracy: 0.8777 - val_loss: 0.2836 - val_accuracy: 0.8944\n",
            "Epoch 46/100\n",
            "1719/1719 [==============================] - 8s 4ms/step - loss: 0.3661 - accuracy: 0.8774 - val_loss: 0.2764 - val_accuracy: 0.8962\n",
            "Epoch 47/100\n",
            "1719/1719 [==============================] - 7s 4ms/step - loss: 0.3560 - accuracy: 0.8782 - val_loss: 0.2802 - val_accuracy: 0.8942\n",
            "Epoch 48/100\n",
            "1719/1719 [==============================] - 8s 5ms/step - loss: 0.3576 - accuracy: 0.8782 - val_loss: 0.2799 - val_accuracy: 0.8946\n",
            "Epoch 49/100\n",
            "1719/1719 [==============================] - 8s 5ms/step - loss: 0.3571 - accuracy: 0.8801 - val_loss: 0.2795 - val_accuracy: 0.8970\n",
            "Epoch 50/100\n",
            "1719/1719 [==============================] - 7s 4ms/step - loss: 0.3507 - accuracy: 0.8797 - val_loss: 0.2746 - val_accuracy: 0.8958\n",
            "Epoch 51/100\n",
            "1719/1719 [==============================] - 8s 5ms/step - loss: 0.3525 - accuracy: 0.8814 - val_loss: 0.2892 - val_accuracy: 0.8946\n",
            "Epoch 52/100\n",
            "1719/1719 [==============================] - 8s 5ms/step - loss: 0.3535 - accuracy: 0.8796 - val_loss: 0.2742 - val_accuracy: 0.9022\n",
            "Epoch 53/100\n",
            "1719/1719 [==============================] - 7s 4ms/step - loss: 0.3498 - accuracy: 0.8809 - val_loss: 0.2884 - val_accuracy: 0.8934\n",
            "Epoch 54/100\n",
            "1719/1719 [==============================] - 8s 5ms/step - loss: 0.3476 - accuracy: 0.8819 - val_loss: 0.2817 - val_accuracy: 0.8936\n",
            "Epoch 55/100\n",
            "1719/1719 [==============================] - 7s 4ms/step - loss: 0.3529 - accuracy: 0.8808 - val_loss: 0.2822 - val_accuracy: 0.8950\n",
            "Epoch 56/100\n",
            "1719/1719 [==============================] - 8s 5ms/step - loss: 0.3500 - accuracy: 0.8817 - val_loss: 0.2818 - val_accuracy: 0.8976\n",
            "Epoch 57/100\n",
            "1719/1719 [==============================] - 8s 5ms/step - loss: 0.3456 - accuracy: 0.8823 - val_loss: 0.2815 - val_accuracy: 0.8966\n",
            "Epoch 58/100\n",
            "1719/1719 [==============================] - 7s 4ms/step - loss: 0.3433 - accuracy: 0.8820 - val_loss: 0.2790 - val_accuracy: 0.8962\n",
            "Epoch 59/100\n",
            "1719/1719 [==============================] - 8s 5ms/step - loss: 0.3429 - accuracy: 0.8835 - val_loss: 0.2767 - val_accuracy: 0.8986\n",
            "Epoch 60/100\n",
            "1719/1719 [==============================] - 8s 5ms/step - loss: 0.3433 - accuracy: 0.8842 - val_loss: 0.2727 - val_accuracy: 0.8988\n",
            "Epoch 61/100\n",
            "1719/1719 [==============================] - 7s 4ms/step - loss: 0.3392 - accuracy: 0.8850 - val_loss: 0.2801 - val_accuracy: 0.8996\n",
            "Epoch 62/100\n",
            "1719/1719 [==============================] - 8s 5ms/step - loss: 0.3350 - accuracy: 0.8869 - val_loss: 0.2768 - val_accuracy: 0.9006\n",
            "Epoch 63/100\n",
            "1719/1719 [==============================] - 12s 7ms/step - loss: 0.3407 - accuracy: 0.8844 - val_loss: 0.2741 - val_accuracy: 0.8990\n",
            "Epoch 64/100\n",
            "1719/1719 [==============================] - 8s 5ms/step - loss: 0.3441 - accuracy: 0.8833 - val_loss: 0.2723 - val_accuracy: 0.8956\n",
            "Epoch 65/100\n",
            "1719/1719 [==============================] - 7s 4ms/step - loss: 0.3357 - accuracy: 0.8878 - val_loss: 0.2703 - val_accuracy: 0.8996\n",
            "Epoch 66/100\n",
            "1719/1719 [==============================] - 8s 5ms/step - loss: 0.3360 - accuracy: 0.8867 - val_loss: 0.2749 - val_accuracy: 0.9012\n",
            "Epoch 67/100\n",
            "1719/1719 [==============================] - 8s 5ms/step - loss: 0.3332 - accuracy: 0.8861 - val_loss: 0.2823 - val_accuracy: 0.8986\n",
            "Epoch 68/100\n",
            "1719/1719 [==============================] - 7s 4ms/step - loss: 0.3321 - accuracy: 0.8881 - val_loss: 0.2878 - val_accuracy: 0.8930\n",
            "Epoch 69/100\n",
            "1719/1719 [==============================] - 8s 5ms/step - loss: 0.3313 - accuracy: 0.8895 - val_loss: 0.2855 - val_accuracy: 0.8964\n",
            "Epoch 70/100\n",
            "1719/1719 [==============================] - 8s 5ms/step - loss: 0.3332 - accuracy: 0.8881 - val_loss: 0.2731 - val_accuracy: 0.8982\n",
            "Epoch 71/100\n",
            "1719/1719 [==============================] - 8s 5ms/step - loss: 0.3304 - accuracy: 0.8891 - val_loss: 0.2808 - val_accuracy: 0.8978\n",
            "Epoch 72/100\n",
            "1719/1719 [==============================] - 8s 5ms/step - loss: 0.3279 - accuracy: 0.8875 - val_loss: 0.2784 - val_accuracy: 0.8990\n",
            "Epoch 73/100\n",
            "1719/1719 [==============================] - 8s 5ms/step - loss: 0.3304 - accuracy: 0.8888 - val_loss: 0.2814 - val_accuracy: 0.8966\n",
            "Epoch 74/100\n",
            "1719/1719 [==============================] - 8s 4ms/step - loss: 0.3282 - accuracy: 0.8876 - val_loss: 0.2756 - val_accuracy: 0.8988\n",
            "Epoch 75/100\n",
            "1719/1719 [==============================] - 8s 5ms/step - loss: 0.3273 - accuracy: 0.8907 - val_loss: 0.2866 - val_accuracy: 0.8956\n",
            "Epoch 76/100\n",
            "1719/1719 [==============================] - 8s 5ms/step - loss: 0.3236 - accuracy: 0.8897 - val_loss: 0.2761 - val_accuracy: 0.8982\n",
            "Epoch 77/100\n",
            "1719/1719 [==============================] - 8s 4ms/step - loss: 0.3315 - accuracy: 0.8886 - val_loss: 0.2723 - val_accuracy: 0.9022\n",
            "Epoch 78/100\n",
            "1719/1719 [==============================] - 8s 5ms/step - loss: 0.3253 - accuracy: 0.8923 - val_loss: 0.2732 - val_accuracy: 0.8986\n",
            "Epoch 79/100\n",
            "1719/1719 [==============================] - 8s 5ms/step - loss: 0.3239 - accuracy: 0.8911 - val_loss: 0.2725 - val_accuracy: 0.9008\n",
            "Epoch 80/100\n",
            "1719/1719 [==============================] - 7s 4ms/step - loss: 0.3229 - accuracy: 0.8916 - val_loss: 0.2705 - val_accuracy: 0.8974\n"
          ]
        }
      ]
    },
    {
      "cell_type": "code",
      "source": [
        "model_full.evaluate(X_test, y_test)"
      ],
      "metadata": {
        "id": "6Q7khh2nabCr",
        "colab": {
          "base_uri": "https://localhost:8080/"
        },
        "outputId": "5673e48e-d97c-4a64-ec2d-78fc432221ba"
      },
      "execution_count": 9,
      "outputs": [
        {
          "output_type": "stream",
          "name": "stdout",
          "text": [
            "313/313 [==============================] - 0s 2ms/step - loss: 0.3009 - accuracy: 0.8933\n"
          ]
        },
        {
          "output_type": "execute_result",
          "data": {
            "text/plain": [
              "[0.30087658762931824, 0.8932999968528748]"
            ]
          },
          "metadata": {},
          "execution_count": 9
        }
      ]
    },
    {
      "cell_type": "code",
      "source": [
        "pd.DataFrame(history_full.history).plot(figsize=(8, 5))\n",
        "plt.grid(True)\n",
        "plt.gca().set_ylim(0, )\n",
        "plt.show()"
      ],
      "metadata": {
        "id": "-n-Ue7vnabIH",
        "colab": {
          "base_uri": "https://localhost:8080/",
          "height": 445
        },
        "outputId": "df129df3-d79f-4322-e779-a63dce3c85f8"
      },
      "execution_count": 10,
      "outputs": [
        {
          "output_type": "display_data",
          "data": {
            "text/plain": [
              "<Figure size 800x500 with 1 Axes>"
            ],
            "image/png": "[encoded data removed]"
          },
          "metadata": {}
        }
      ]
    }
  ]
}