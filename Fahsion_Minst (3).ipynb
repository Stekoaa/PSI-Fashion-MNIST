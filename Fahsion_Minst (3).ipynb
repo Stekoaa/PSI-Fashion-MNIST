{
  "nbformat": 4,
  "nbformat_minor": 0,
  "metadata": {
    "colab": {
      "provenance": []
    },
    "kernelspec": {
      "name": "python3",
      "display_name": "Python 3"
    },
    "language_info": {
      "name": "python"
    }
  },
  "cells": [
    {
      "cell_type": "code",
      "execution_count": 3,
      "metadata": {
        "id": "MTqy_VUCZ2hC"
      },
      "outputs": [],
      "source": [
        "import tensorflow as tf\n",
        "from tensorflow import keras\n",
        "import numpy as np\n",
        "import pandas as pd\n",
        "import matplotlib.pyplot as plt\n",
        "import os"
      ]
    },
    {
      "cell_type": "code",
      "source": [
        "fashion_mnist = keras.datasets.fashion_mnist\n",
        "(X_train_full, y_train_full), (X_test, y_test) = fashion_mnist.load_data()"
      ],
      "metadata": {
        "id": "Bm2qxWYhaIhN"
      },
      "execution_count": 4,
      "outputs": []
    },
    {
      "cell_type": "code",
      "source": [
        "X_train_full.shape"
      ],
      "metadata": {
        "id": "PFPdUvSUaJ0I",
        "colab": {
          "base_uri": "https://localhost:8080/"
        },
        "outputId": "60c4070f-7391-4203-c633-80014d1a0784"
      },
      "execution_count": 5,
      "outputs": [
        {
          "output_type": "execute_result",
          "data": {
            "text/plain": [
              "(60000, 28, 28)"
            ]
          },
          "metadata": {},
          "execution_count": 5
        }
      ]
    },
    {
      "cell_type": "code",
      "source": [
        "X_train_full.dtype"
      ],
      "metadata": {
        "id": "5-E3Oab0aLRQ",
        "colab": {
          "base_uri": "https://localhost:8080/"
        },
        "outputId": "e70e583c-d72e-46b8-8084-dfb554827853"
      },
      "execution_count": 6,
      "outputs": [
        {
          "output_type": "execute_result",
          "data": {
            "text/plain": [
              "dtype('uint8')"
            ]
          },
          "metadata": {},
          "execution_count": 6
        }
      ]
    },
    {
      "cell_type": "code",
      "source": [
        "X_valid, X_train = X_train_full[:5000] / 255., X_train_full[5000:] / 255.\n",
        "y_valid, y_train = y_train_full[:5000], y_train_full[5000:]\n",
        "X_test = X_test / 255."
      ],
      "metadata": {
        "id": "Wrd9MPKwaMv8"
      },
      "execution_count": 7,
      "outputs": []
    },
    {
      "cell_type": "code",
      "source": [
        "plt.imshow(X_train[0], cmap=\"binary\")\n",
        "plt.axis('off')\n",
        "plt.show()"
      ],
      "metadata": {
        "id": "5XnG2bhLaP_K",
        "colab": {
          "base_uri": "https://localhost:8080/",
          "height": 406
        },
        "outputId": "bbab1d7a-6d91-4891-d027-d8faa44fb7de"
      },
      "execution_count": 8,
      "outputs": [
        {
          "output_type": "display_data",
          "data": {
            "text/plain": [
              "<Figure size 640x480 with 1 Axes>"
            ],
            "image/png": "[encoded data removed]"
          },
          "metadata": {}
        }
      ]
    },
    {
      "cell_type": "code",
      "source": [
        "class_names = [\"T-shirt/top\", \"Trouser\", \"Pullover\", \"Dress\", \"Coat\",\n",
        "               \"Sandal\", \"Shirt\", \"Sneaker\", \"Bag\", \"Ankle boot\"]\n",
        "\n",
        "class_names[y_train[0]]"
      ],
      "metadata": {
        "id": "-Zw0JcgcaRZc",
        "colab": {
          "base_uri": "https://localhost:8080/",
          "height": 35
        },
        "outputId": "d61fe4c3-a5e6-4ed8-e864-57f39141ed4c"
      },
      "execution_count": 19,
      "outputs": [
        {
          "output_type": "execute_result",
          "data": {
            "text/plain": [
              "'Coat'"
            ],
            "application/vnd.google.colaboratory.intrinsic+json": {
              "type": "string"
            }
          },
          "metadata": {},
          "execution_count": 19
        }
      ]
    },
    {
      "cell_type": "code",
      "source": [
        "from keras.models import Sequential\n",
        "from keras.layers import Conv2D\n",
        "from keras.layers import MaxPooling2D, AveragePooling2D\n",
        "from keras.layers import Flatten\n",
        "from keras.layers import Dense\n",
        "from keras.layers import Dropout\n",
        "from keras.layers import BatchNormalization\n",
        "from keras.callbacks import History\n",
        "from keras.callbacks import LearningRateScheduler\n",
        "from keras.optimizers import Adam\n",
        "\n",
        "keras.backend.clear_session()\n",
        "np.random.seed(42)\n",
        "tf.random.set_seed(42)\n",
        "\n",
        "model_full = Sequential()\n",
        "model_full.add(Conv2D(32, (3, 3), padding='same', activation='relu', input_shape=(28, 28, 1)))\n",
        "model_full.add(AveragePooling2D(pool_size=(2, 2), padding='valid'))\n",
        "model_full.add(Conv2D(64, 3, padding='same', activation='relu'))\n",
        "model_full.add(AveragePooling2D(pool_size=(2, 2), padding='valid'))\n",
        "model_full.add(Flatten())\n",
        "model_full.add(keras.layers.Dense(300)),\n",
        "model_full.add(keras.layers.BatchNormalization()),\n",
        "model_full.add(keras.layers.Activation(\"relu\")),\n",
        "model_full.add(keras.layers.Dropout(0.5)),\n",
        "model_full.add(keras.layers.Dense(100)),\n",
        "model_full.add(keras.layers.BatchNormalization()),\n",
        "model_full.add(keras.layers.Activation(\"relu\")),\n",
        "model_full.add(keras.layers.Dropout(0.5)),\n",
        "model_full.add(keras.layers.Dense(50)),\n",
        "model_full.add(keras.layers.BatchNormalization()),\n",
        "model_full.add(keras.layers.Activation(\"relu\")),\n",
        "model_full.add(keras.layers.Dropout(0.5)),\n",
        "model_full.add(keras.layers.Dense(10, activation=\"softmax\"))\n",
        "\n",
        "model_full.summary()\n",
        "\n",
        "early_stopping = keras.callbacks.EarlyStopping(patience=5, monitor=\"val_loss\")\n",
        "model_full.compile(loss=\"sparse_categorical_crossentropy\", optimizer=\"adam\", metrics=[\"accuracy\"])\n",
        "\n",
        "history_full = model_full.fit(X_train, y_train, epochs=100, validation_data=(X_valid, y_valid), callbacks=[early_stopping])"
      ],
      "metadata": {
        "id": "_mVlPfR1aYWl",
        "colab": {
          "base_uri": "https://localhost:8080/"
        },
        "outputId": "8f719bdf-8fd8-4ef1-f800-0810b7e4376c"
      },
      "execution_count": 9,
      "outputs": [
        {
          "output_type": "stream",
          "name": "stdout",
          "text": [
            "Model: \"sequential\"\n",
            "_________________________________________________________________\n",
            " Layer (type)                Output Shape              Param #   \n",
            "=================================================================\n",
            " conv2d (Conv2D)             (None, 28, 28, 32)        320       \n",
            "                                                                 \n",
            " average_pooling2d (AverageP  (None, 14, 14, 32)       0         \n",
            " ooling2D)                                                       \n",
            "                                                                 \n",
            " conv2d_1 (Conv2D)           (None, 14, 14, 64)        18496     \n",
            "                                                                 \n",
            " average_pooling2d_1 (Averag  (None, 7, 7, 64)         0         \n",
            " ePooling2D)                                                     \n",
            "                                                                 \n",
            " flatten (Flatten)           (None, 3136)              0         \n",
            "                                                                 \n",
            " dense (Dense)               (None, 300)               941100    \n",
            "                                                                 \n",
            " batch_normalization (BatchN  (None, 300)              1200      \n",
            " ormalization)                                                   \n",
            "                                                                 \n",
            " activation (Activation)     (None, 300)               0         \n",
            "                                                                 \n",
            " dropout (Dropout)           (None, 300)               0         \n",
            "                                                                 \n",
            " dense_1 (Dense)             (None, 100)               30100     \n",
            "                                                                 \n",
            " batch_normalization_1 (Batc  (None, 100)              400       \n",
            " hNormalization)                                                 \n",
            "                                                                 \n",
            " activation_1 (Activation)   (None, 100)               0         \n",
            "                                                                 \n",
            " dropout_1 (Dropout)         (None, 100)               0         \n",
            "                                                                 \n",
            " dense_2 (Dense)             (None, 50)                5050      \n",
            "                                                                 \n",
            " batch_normalization_2 (Batc  (None, 50)               200       \n",
            " hNormalization)                                                 \n",
            "                                                                 \n",
            " activation_2 (Activation)   (None, 50)                0         \n",
            "                                                                 \n",
            " dropout_2 (Dropout)         (None, 50)                0         \n",
            "                                                                 \n",
            " dense_3 (Dense)             (None, 10)                510       \n",
            "                                                                 \n",
            "=================================================================\n",
            "Total params: 997,376\n",
            "Trainable params: 996,476\n",
            "Non-trainable params: 900\n",
            "_________________________________________________________________\n",
            "Epoch 1/100\n",
            "1719/1719 [==============================] - 108s 60ms/step - loss: 0.8011 - accuracy: 0.7347 - val_loss: 0.3426 - val_accuracy: 0.8820\n",
            "Epoch 2/100\n",
            "1719/1719 [==============================] - 102s 59ms/step - loss: 0.4746 - accuracy: 0.8481 - val_loss: 0.3093 - val_accuracy: 0.8844\n",
            "Epoch 3/100\n",
            "1719/1719 [==============================] - 99s 58ms/step - loss: 0.4154 - accuracy: 0.8670 - val_loss: 0.2660 - val_accuracy: 0.9060\n",
            "Epoch 4/100\n",
            "1719/1719 [==============================] - 103s 60ms/step - loss: 0.3757 - accuracy: 0.8796 - val_loss: 0.2349 - val_accuracy: 0.9122\n",
            "Epoch 5/100\n",
            "1719/1719 [==============================] - 97s 56ms/step - loss: 0.3456 - accuracy: 0.8898 - val_loss: 0.2355 - val_accuracy: 0.9138\n",
            "Epoch 6/100\n",
            "1719/1719 [==============================] - 104s 61ms/step - loss: 0.3289 - accuracy: 0.8945 - val_loss: 0.2194 - val_accuracy: 0.9208\n",
            "Epoch 7/100\n",
            "1719/1719 [==============================] - 99s 58ms/step - loss: 0.3136 - accuracy: 0.8983 - val_loss: 0.2154 - val_accuracy: 0.9232\n",
            "Epoch 8/100\n",
            "1719/1719 [==============================] - 100s 58ms/step - loss: 0.3041 - accuracy: 0.9015 - val_loss: 0.2258 - val_accuracy: 0.9206\n",
            "Epoch 9/100\n",
            "1719/1719 [==============================] - 101s 59ms/step - loss: 0.2877 - accuracy: 0.9081 - val_loss: 0.2079 - val_accuracy: 0.9238\n",
            "Epoch 10/100\n",
            "1719/1719 [==============================] - 99s 58ms/step - loss: 0.2765 - accuracy: 0.9095 - val_loss: 0.2008 - val_accuracy: 0.9274\n",
            "Epoch 11/100\n",
            "1719/1719 [==============================] - 97s 57ms/step - loss: 0.2656 - accuracy: 0.9136 - val_loss: 0.2108 - val_accuracy: 0.9228\n",
            "Epoch 12/100\n",
            "1719/1719 [==============================] - 99s 58ms/step - loss: 0.2588 - accuracy: 0.9153 - val_loss: 0.1978 - val_accuracy: 0.9234\n",
            "Epoch 13/100\n",
            "1719/1719 [==============================] - 99s 58ms/step - loss: 0.2521 - accuracy: 0.9176 - val_loss: 0.2103 - val_accuracy: 0.9200\n",
            "Epoch 14/100\n",
            "1719/1719 [==============================] - 99s 58ms/step - loss: 0.2390 - accuracy: 0.9234 - val_loss: 0.1972 - val_accuracy: 0.9286\n",
            "Epoch 15/100\n",
            "1719/1719 [==============================] - 99s 58ms/step - loss: 0.2355 - accuracy: 0.9232 - val_loss: 0.1936 - val_accuracy: 0.9290\n",
            "Epoch 16/100\n",
            "1719/1719 [==============================] - 105s 61ms/step - loss: 0.2333 - accuracy: 0.9257 - val_loss: 0.2003 - val_accuracy: 0.9272\n",
            "Epoch 17/100\n",
            "1719/1719 [==============================] - 98s 57ms/step - loss: 0.2255 - accuracy: 0.9271 - val_loss: 0.1928 - val_accuracy: 0.9314\n",
            "Epoch 18/100\n",
            "1719/1719 [==============================] - 102s 59ms/step - loss: 0.2139 - accuracy: 0.9300 - val_loss: 0.2020 - val_accuracy: 0.9296\n",
            "Epoch 19/100\n",
            "1719/1719 [==============================] - 105s 61ms/step - loss: 0.2096 - accuracy: 0.9317 - val_loss: 0.2114 - val_accuracy: 0.9240\n",
            "Epoch 20/100\n",
            "1719/1719 [==============================] - 99s 58ms/step - loss: 0.2060 - accuracy: 0.9335 - val_loss: 0.1966 - val_accuracy: 0.9316\n",
            "Epoch 21/100\n",
            "1719/1719 [==============================] - 101s 59ms/step - loss: 0.2004 - accuracy: 0.9342 - val_loss: 0.2127 - val_accuracy: 0.9270\n",
            "Epoch 22/100\n",
            "1719/1719 [==============================] - 102s 59ms/step - loss: 0.1974 - accuracy: 0.9373 - val_loss: 0.1952 - val_accuracy: 0.9340\n"
          ]
        }
      ]
    },
    {
      "cell_type": "code",
      "source": [
        "model_full.evaluate(X_test, y_test)"
      ],
      "metadata": {
        "id": "6Q7khh2nabCr",
        "colab": {
          "base_uri": "https://localhost:8080/"
        },
        "outputId": "ebbe52ae-c070-4a5a-d9fa-ef0c401dc308"
      },
      "execution_count": 10,
      "outputs": [
        {
          "output_type": "stream",
          "name": "stdout",
          "text": [
            "313/313 [==============================] - 5s 16ms/step - loss: 0.2216 - accuracy: 0.9292\n"
          ]
        },
        {
          "output_type": "execute_result",
          "data": {
            "text/plain": [
              "[0.2216334193944931, 0.9291999936103821]"
            ]
          },
          "metadata": {},
          "execution_count": 10
        }
      ]
    },
    {
      "cell_type": "code",
      "source": [
        "pd.DataFrame(history_full.history).plot(figsize=(8, 5))\n",
        "plt.grid(True)\n",
        "plt.gca().set_ylim(0, )\n",
        "plt.show()"
      ],
      "metadata": {
        "id": "-n-Ue7vnabIH",
        "colab": {
          "base_uri": "https://localhost:8080/",
          "height": 445
        },
        "outputId": "558d0356-697f-49fa-9d32-f0eb1c47cbc8"
      },
      "execution_count": null,
      "outputs": [
        {
          "output_type": "display_data",
          "data": {
            "text/plain": [
              "<Figure size 800x500 with 1 Axes>"
            ],
            "image/png": "[encoded data removed]"
          },
          "metadata": {}
        }
      ]
    }
  ]
}